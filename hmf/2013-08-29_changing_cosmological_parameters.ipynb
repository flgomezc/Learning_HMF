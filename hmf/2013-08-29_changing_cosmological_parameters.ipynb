{
 "metadata": {
  "name": ""
 },
 "nbformat": 3,
 "nbformat_minor": 0,
 "worksheets": [
  {
   "cells": [
    {
     "cell_type": "code",
     "collapsed": false,
     "input": [
      "from hmf import Perturbations\n",
      "import numpy as np\n",
      "M = np.arange(10,15,0.01)"
     ],
     "language": "python",
     "metadata": {},
     "outputs": [],
     "prompt_number": 1
    },
    {
     "cell_type": "code",
     "collapsed": false,
     "input": [
      "\"\"\"\n",
      "PLANCK PARAMETERS\n",
      "Angular size of sound horizon at recombination\n",
      "    theta_*     = (1.0414)*10^-2\n",
      "Baryons density:\n",
      "    Omega_b h^2 = 0.0220\n",
      "Dark cold matter density:\n",
      "    Omega_c h^2 = 0.1199\n",
      "Spectral index\n",
      "    n_s         =  0.9693\n",
      "Hubble constant:\n",
      "    H_0         = 67.3  km s^-1 Mpc ^-1\n",
      "Matter density:\n",
      "    Omega_m     = 0.315\n",
      "\n",
      "\n",
      "\"\"\""
     ],
     "language": "python",
     "metadata": {},
     "outputs": [
      {
       "metadata": {},
       "output_type": "pyout",
       "prompt_number": 6,
       "text": [
        "'\\nPLANCK PARAMETERS\\nAngular size of sound horizon at recombination\\ntheta_* = (1.04147)*10^-2\\n\\n\\n\\n'"
       ]
      }
     ],
     "prompt_number": 6
    },
    {
     "cell_type": "code",
     "collapsed": false,
     "input": [
      "pert_object = Perturbations(M,z=1.0)\n",
      "#pert_object.update(z=1.0)\n",
      "print pert_object._extra_cosmo\n"
     ],
     "language": "python",
     "metadata": {},
     "outputs": [
      {
       "ename": "NameError",
       "evalue": "name 'Perturbations' is not defined",
       "output_type": "pyerr",
       "traceback": [
        "\u001b[1;31m---------------------------------------------------------------------------\u001b[0m\n\u001b[1;31mNameError\u001b[0m                                 Traceback (most recent call last)",
        "\u001b[1;32m<ipython-input-2-374ec51a5ad2>\u001b[0m in \u001b[0;36m<module>\u001b[1;34m()\u001b[0m\n\u001b[1;32m----> 1\u001b[1;33m \u001b[0mpert_object\u001b[0m \u001b[1;33m=\u001b[0m \u001b[0mPerturbations\u001b[0m\u001b[1;33m(\u001b[0m\u001b[0mM\u001b[0m\u001b[1;33m,\u001b[0m\u001b[0mz\u001b[0m\u001b[1;33m=\u001b[0m\u001b[1;36m1.0\u001b[0m\u001b[1;33m)\u001b[0m\u001b[1;33m\u001b[0m\u001b[0m\n\u001b[0m\u001b[0;32m      2\u001b[0m \u001b[1;31m#pert_object.update(z=1.0)\u001b[0m\u001b[1;33m\u001b[0m\u001b[1;33m\u001b[0m\u001b[0m\n\u001b[0;32m      3\u001b[0m \u001b[1;32mprint\u001b[0m \u001b[0mpert_object\u001b[0m\u001b[1;33m.\u001b[0m\u001b[0m_extra_cosmo\u001b[0m\u001b[1;33m\u001b[0m\u001b[0m\n",
        "\u001b[1;31mNameError\u001b[0m: name 'Perturbations' is not defined"
       ]
      }
     ],
     "prompt_number": 2
    },
    {
     "cell_type": "code",
     "collapsed": false,
     "input": [
      "#kwargs = {'sigma_8':0.9}\n",
      "#kwargs = {'z':6.0, 'sigma_8'}\n",
      "#pert_object.update(**kwargs)\n",
      "#print pert_object._extra_cosmo\n",
      "#pert_object._extra_cosmo.update({'sigma_8':0.9})\n",
      "#del pert_object._power_cdm_0\n",
      "print \"cosmo_params\"\n",
      "print pert_object.cosmo_params\n",
      "print \"\\n_extra_cosmo\" \n",
      "print pert_object._extra_cosmo\n",
      "print \"\\n_transfer_cosmo\" \n",
      "print pert_object._transfer_cosmo\n",
      "\n",
      "\n",
      "#pert_object.update()\n"
     ],
     "language": "python",
     "metadata": {},
     "outputs": [
      {
       "output_type": "stream",
       "stream": "stdout",
       "text": [
        "cosmo_params\n",
        "{'omegam': 0.2715, 'omegan': 0.0, 'reion__optical_depth': 0.085, 'omegak': 0.0004999999999999449, 'H0': 70.4, 'omegav': 0.728, 'omegac': 0.226, 'omegab': 0.0455, 'mean_dens': 75354825000.0, 'sigma_8': 0.81, 'crit_dens': 277550000000.0, 'TCMB': 2.725, 'Num_Nu_massless': 3.04, 'cs2_lam': 0, 'n': 0.967, 'yhe': 0.24, 'w_lam': -1, 'delta_c': 1.686}\n",
        "\n",
        "_extra_cosmo\n",
        "{'crit_dens': 277550000000.0, 'sigma_8': 0.81, 'delta_c': 1.686, 'n': 0.967}\n",
        "\n",
        "_transfer_cosmo\n",
        "{'reion__optical_depth': 0.085, 'TCMB': 2.725, 'cs2_lam': 0, 'omegab': 0.0455, 'w_lam': -1, 'omegan': 0.0, 'reion__redshift': 10.3, 'H0': 70.4, 'omegac': 0.226, 'yhe': 0.24, 'Num_Nu_massless': 3.04, 'omegav': 0.728}\n"
       ]
      }
     ],
     "prompt_number": 3
    },
    {
     "cell_type": "code",
     "collapsed": false,
     "input": [
      "mass_func = pert_object.dndlnm\n",
      "%pylab inline\n",
      "plot (M, log10(mass_func))\n"
     ],
     "language": "python",
     "metadata": {},
     "outputs": [
      {
       "output_type": "stream",
       "stream": "stdout",
       "text": [
        "Populating the interactive namespace from numpy and matplotlib\n"
       ]
      },
      {
       "metadata": {},
       "output_type": "pyout",
       "prompt_number": 4,
       "text": [
        "[<matplotlib.lines.Line2D at 0x9eb3a0c>]"
       ]
      },
      {
       "metadata": {},
       "output_type": "display_data",
       "png": "[encoded data removed]",
       "text": [
        "<matplotlib.figure.Figure at 0x97be92c>"
       ]
      }
     ],
     "prompt_number": 4
    },
    {
     "cell_type": "code",
     "collapsed": false,
     "input": [],
     "language": "python",
     "metadata": {},
     "outputs": []
    }
   ],
   "metadata": {}
  }
 ]
}