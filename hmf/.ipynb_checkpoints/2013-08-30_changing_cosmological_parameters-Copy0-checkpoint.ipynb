{
 "metadata": {
  "name": ""
 },
 "nbformat": 3,
 "nbformat_minor": 0,
 "worksheets": [
  {
   "cells": [
    {
     "cell_type": "code",
     "collapsed": false,
     "input": [
      "from hmf import Perturbations\n",
      "import numpy as np\n",
      "M = np.arange(10,15,0.01)\n",
      "pert_object = Perturbations(M,z=0.0)\n",
      "\"\"\"\n",
      "PLANCK PARAMETERS (mar-2013)\n",
      "Angular size of sound horizon at recombination\n",
      "    theta_*     = (1.0414)*10^-2\n",
      "Baryons density:\n",
      "    Omega_b h^2 = 0.0220\n",
      "    Omega_b     = 0.0486\n",
      "Dark cold matter density:\n",
      "    Omega_c h^2 = 0.1199\n",
      "    Omega_c     = 0.2647\n",
      "Spectral index\n",
      "    n_s         =  0.9693\n",
      "Hubble constant:\n",
      "    H_0         = 67.3  km s^-1 Mpc ^-1\n",
      "    h           = 0.67.3\n",
      "Matter density:\n",
      "    Omega_m     = 0.315\n",
      "Optical depth\n",
      "    tau = 0.089\n",
      "\"\"\""
     ],
     "language": "python",
     "metadata": {},
     "outputs": [
      {
       "metadata": {},
       "output_type": "pyout",
       "prompt_number": 1,
       "text": [
        "'\\nPLANCK PARAMETERS (mar-2013)\\nAngular size of sound horizon at recombination\\n    theta_*     = (1.0414)*10^-2\\nBaryons density:\\n    Omega_b h^2 = 0.0220\\n    Omega_b     = 0.0486\\nDark cold matter density:\\n    Omega_c h^2 = 0.1199\\n    Omega_c     = 0.2647\\nSpectral index\\n    n_s         =  0.9693\\nHubble constant:\\n    H_0         = 67.3  km s^-1 Mpc ^-1\\n    h           = 0.67.3\\nMatter density:\\n    Omega_m     = 0.315\\nOptical depth\\n    tau = 0.089\\n'"
       ]
      }
     ],
     "prompt_number": 1
    },
    {
     "cell_type": "code",
     "collapsed": false,
     "input": [
      "pert_object.update(omegab = 0.0485, reion__optical_depth = 0.089, H0 = 67.3)\n",
      "# The following are not valid parameters for the Perturbation Class\n",
      "# omegam\n",
      "# sigma_8"
     ],
     "language": "python",
     "metadata": {},
     "outputs": [],
     "prompt_number": 2
    },
    {
     "cell_type": "code",
     "collapsed": false,
     "input": [
      "mass_func = pert_object.dndlnm\n",
      "\n",
      "\n",
      "pert_early = Perturbations(M,z=6.0)\n",
      "pert_early.update()\n",
      "early_mass_func = pert_early.dndlnm\n"
     ],
     "language": "python",
     "metadata": {},
     "outputs": [
      {
       "output_type": "stream",
       "stream": "stdout",
       "text": [
        "WARNING: Unrecognized parameters:\n",
        "transfer__kmax\n",
        "transfer__k_per_logint\n",
        "WARNING: Unrecognized parameters:"
       ]
      },
      {
       "output_type": "stream",
       "stream": "stdout",
       "text": [
        "\n",
        "transfer__kmax\n",
        "transfer__k_per_logint\n"
       ]
      }
     ],
     "prompt_number": 3
    },
    {
     "cell_type": "code",
     "collapsed": false,
     "input": [
      "%pylab inline\n",
      "plot (M, log10(mass_func))\n",
      "plot (M,log10(early_mass_func))"
     ],
     "language": "python",
     "metadata": {},
     "outputs": [
      {
       "output_type": "stream",
       "stream": "stdout",
       "text": [
        "Populating the interactive namespace from numpy and matplotlib\n"
       ]
      },
      {
       "metadata": {},
       "output_type": "pyout",
       "prompt_number": 4,
       "text": [
        "[<matplotlib.lines.Line2D at 0x8f91e4c>]"
       ]
      },
      {
       "metadata": {},
       "output_type": "display_data",
       "png": "[encoded data removed]",
       "text": [
        "<matplotlib.figure.Figure at 0x959cb2c>"
       ]
      }
     ],
     "prompt_number": 4
    },
    {
     "cell_type": "code",
     "collapsed": false,
     "input": [],
     "language": "python",
     "metadata": {},
     "outputs": []
    }
   ],
   "metadata": {}
  }
 ]
}